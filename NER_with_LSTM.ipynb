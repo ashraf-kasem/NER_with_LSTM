{
  "cells": [
    {
      "cell_type": "markdown",
      "metadata": {
        "id": "view-in-github",
        "colab_type": "text"
      },
      "source": [
        "<a href=\"https://colab.research.google.com/github/ashraf-kasem/NER_with_LSTM/blob/main/NER_with_LSTM.ipynb\" target=\"_parent\"><img src=\"https://colab.research.google.com/assets/colab-badge.svg\" alt=\"Open In Colab\"/></a>"
      ]
    },
    {
      "cell_type": "markdown",
      "id": "7fc86577",
      "metadata": {
        "id": "7fc86577"
      },
      "source": [
        "# Named Entity Recognition (NER)\n",
        "\n",
        "you will learn to build more complicated models with Trax. By completing this assignment, you will be able to: \n",
        "\n",
        "- Design the architecture of a neural network, train it, and test it. \n",
        "- Process features and represents them\n",
        "- Understand word padding\n",
        "- Implement LSTMs\n",
        "- Test with your own sentence\n",
        "\n",
        "## Outline\n",
        "- [Introduction](#0)\n",
        "- [Part 1:  Exploring the data](#1)\n",
        "    - [1.1  Importing the Data](#1.1)\n",
        "    - [1.2  Data generator](#1.2)\n",
        "\t\t- [Exercise 01](#ex01)\n",
        "- [Part 2:  Building the model](#2)\n",
        "\t- [Exercise 02](#ex02)\n",
        "- [Part 3:  Train the Model ](#3)\n",
        "\t- [Exercise 03](#ex03)\n",
        "- [Part 4:  Compute Accuracy](#4)\n",
        "\t- [Exercise 04](#ex04)\n",
        "- [Part 5:  Testing with your own sentence](#5)\n"
      ]
    },
    {
      "cell_type": "markdown",
      "id": "af711925",
      "metadata": {
        "id": "af711925"
      },
      "source": [
        "<a name=\"0\"></a>\n",
        "# Introduction\n",
        "\n",
        "We first start by defining named entity recognition (NER). NER is a subtask of information extraction that locates and classifies named entities in a text. The named entities could be organizations, persons, locations, times, etc. \n",
        "\n",
        "For example:\n",
        "\n",
        "![my image](https://drive.google.com/uc?export=view&id=1Sp98kOreRX6MZG5mZIFz7Gpg1P7SQDp_)\n",
        "\n",
        "<!-- <img src = 'images/ner.png' width=\"width\" height=\"height\" style=\"width:600px;height:150px;\"/> -->\n",
        "\n",
        "Is labeled as follows: \n",
        "\n",
        "- French: geopolitical entity\n",
        "- Morocco: geographic entity \n",
        "- Christmas: time indicator\n",
        "\n",
        "Everything else that is labeled with an `O` is not considered to be a named entity. In this assignment, you will train a named entity recognition system that could be trained in a few seconds (on a GPU) and will get around 75% accuracy. Then, you will load in the exact version of your model, which was trained for a longer period of time. You could then evaluate the trained version of your model to get 96% accuracy! Finally, you will be able to test your named entity recognition system with your own sentence."
      ]
    },
    {
      "cell_type": "code",
      "source": [
        "# mount your drive\n",
        "import os \n",
        "import shutil\n",
        "from google.colab import drive\n",
        "drive.mount('/content/drive')\n",
        "current_path = '/content/drive/MyDrive/NER_with_LSTM/'\n",
        "\n",
        "# check if the folder already exist\n",
        "if os.path.exists(current_path):\n",
        "    shutil.rmtree(current_path)\n",
        "os.mkdir(current_path)\n",
        "# clone my repo\n",
        "! git clone https://github.com/ashraf-kasem/NER_with_LSTM.git /content/drive/MyDrive/NER_with_LSTM/\n",
        "# install trax\n",
        "!pip install trax"
      ],
      "metadata": {
        "id": "PP5C-FpH2tl0"
      },
      "id": "PP5C-FpH2tl0",
      "execution_count": null,
      "outputs": []
    },
    {
      "cell_type": "code",
      "execution_count": null,
      "id": "ae2d95f0",
      "metadata": {
        "id": "ae2d95f0"
      },
      "outputs": [],
      "source": [
        "import numpy as np\n",
        "import pandas as pd\n",
        "import random as rnd\n",
        "\n",
        "\n",
        "import trax \n",
        "from trax.supervised import training\n",
        "from trax import layers as tl\n",
        "\n",
        "# set random seeds to make this notebook easier to replicate\n",
        "rnd.seed(33)"
      ]
    },
    {
      "cell_type": "code",
      "source": [
        "# 2 helper functions to help you handle the vocab and the data\n",
        "# you don't have to understand them now (ignore for simplicity)\n",
        "def get_vocab(vocab_path, tags_path):\n",
        "    vocab = {}\n",
        "    with open(vocab_path) as f:\n",
        "        for i, l in enumerate(f.read().splitlines()):\n",
        "            vocab[l] = i  # to avoid the 0\n",
        "        # loading tags (we require this to map tags to their indices)\n",
        "    vocab['<PAD>'] = len(vocab) # 35180\n",
        "    tag_map = {}\n",
        "    with open(tags_path) as f:\n",
        "        for i, t in enumerate(f.read().splitlines()):\n",
        "            tag_map[t] = i \n",
        "    \n",
        "    return vocab, tag_map\n",
        "\n",
        "def get_params(vocab, tag_map, sentences_file, labels_file):\n",
        "    sentences = []\n",
        "    labels = []\n",
        "\n",
        "    with open(sentences_file) as f:\n",
        "        for sentence in f.read().splitlines():\n",
        "            # replace each token by its index if it is in vocab\n",
        "            # else use index of UNK_WORD\n",
        "            s = [vocab[token] if token in vocab \n",
        "                 else vocab['UNK']\n",
        "                 for token in sentence.split(' ')]\n",
        "            sentences.append(s)\n",
        "\n",
        "    with open(labels_file) as f:\n",
        "        for sentence in f.read().splitlines():\n",
        "            # replace each label by its index\n",
        "            l = [tag_map[label] for label in sentence.split(' ')] # I added plus 1 here\n",
        "            labels.append(l) \n",
        "    return sentences, labels, len(sentences)"
      ],
      "metadata": {
        "id": "-IGznGkG4OIX"
      },
      "id": "-IGznGkG4OIX",
      "execution_count": null,
      "outputs": []
    },
    {
      "cell_type": "markdown",
      "id": "22cd2975",
      "metadata": {
        "id": "22cd2975"
      },
      "source": [
        "<a name=\"1\"></a>\n",
        "# Part 1:  Exploring the data\n",
        "\n",
        "We will be using a dataset from Kaggle, which we will preprocess for you. The original data consists of four columns: the sentence number, the word, the part of speech of the word, and the tags.  A few tags you might expect to see are: \n",
        "\n",
        "* geo: geographical entity\n",
        "* org: organization\n",
        "* per: person \n",
        "* gpe: geopolitical entity\n",
        "* tim: time indicator\n",
        "* art: artifact\n",
        "* eve: event\n",
        "* nat: natural phenomenon\n",
        "* O: filler word\n"
      ]
    },
    {
      "cell_type": "code",
      "execution_count": null,
      "id": "73ac18b9",
      "metadata": {
        "id": "73ac18b9"
      },
      "outputs": [],
      "source": [
        "# display original data\n",
        "data = pd.read_csv(current_path + \"data/ner_dataset.csv\", encoding = \"ISO-8859-1\") \n",
        "train_sents = open(current_path + 'data/small/train/sentences.txt', 'r').readline()\n",
        "train_labels = open(current_path + 'data/small/train/labels.txt', 'r').readline()\n",
        "print('SENTENCE:', train_sents)\n",
        "print('SENTENCE LABEL:', train_labels)\n",
        "print('ORIGINAL DATA:\\n', data.head(50))\n",
        "del(data, train_sents, train_labels)"
      ]
    },
    {
      "cell_type": "markdown",
      "id": "84bbb370",
      "metadata": {
        "id": "84bbb370"
      },
      "source": [
        "<a name=\"1.1\"></a>\n",
        "## 1.1  Importing the Data\n",
        "\n",
        "In this part, we will import the preprocessed data and explore it."
      ]
    },
    {
      "cell_type": "code",
      "execution_count": null,
      "id": "9e8fd0ea",
      "metadata": {
        "id": "9e8fd0ea"
      },
      "outputs": [],
      "source": [
        "vocab, tag_map = get_vocab(current_path + 'data/large/words.txt', current_path + 'data/large/tags.txt')\n",
        "t_sentences, t_labels, t_size = get_params(vocab, tag_map, current_path + 'data/large/train/sentences.txt', current_path + 'data/large/train/labels.txt')\n",
        "v_sentences, v_labels, v_size = get_params(vocab, tag_map, current_path + 'data/large/val/sentences.txt', current_path + 'data/large/val/labels.txt')\n",
        "test_sentences, test_labels, test_size = get_params(vocab, tag_map, current_path + 'data/large/test/sentences.txt', current_path +'data/large/test/labels.txt')"
      ]
    },
    {
      "cell_type": "code",
      "source": [
        "# show 20 item from the vocab the vocab\n",
        "for i, (key, value) in enumerate(vocab.items()):\n",
        "  print(key, value)\n",
        "  if i == 20:\n",
        "    break"
      ],
      "metadata": {
        "id": "L1-An0pebnYt"
      },
      "id": "L1-An0pebnYt",
      "execution_count": null,
      "outputs": []
    },
    {
      "cell_type": "code",
      "source": [
        "# show all the tags\n",
        "for  (key, value) in tag_map.items():\n",
        "  print(key, value)"
      ],
      "metadata": {
        "id": "IZfqUbBHdCv6"
      },
      "id": "IZfqUbBHdCv6",
      "execution_count": null,
      "outputs": []
    },
    {
      "cell_type": "markdown",
      "id": "d2ebca2c",
      "metadata": {
        "id": "d2ebca2c"
      },
      "source": [
        "`vocab` is a dictionary that translates a word string to a unique number. Given a sentence, you can represent it as an array of numbers translating with this dictionary. The dictionary contains a `<PAD>` token. \n",
        "\n",
        "When training an LSTM using batches, all your input sentences must be the same size. To accomplish this, you set the length of your sentences to a certain number and add the generic `<PAD>` token to fill all the empty spaces. "
      ]
    },
    {
      "cell_type": "code",
      "execution_count": null,
      "id": "e2aa7aa1",
      "metadata": {
        "id": "e2aa7aa1"
      },
      "outputs": [],
      "source": [
        "# vocab translates from a word to a unique number\n",
        "print('vocab[\"the\"]:', vocab[\"the\"])\n",
        "# Pad token\n",
        "print('padded token:', vocab['<PAD>'])"
      ]
    },
    {
      "cell_type": "markdown",
      "id": "c2fab70f",
      "metadata": {
        "id": "c2fab70f"
      },
      "source": [
        "The `tag_map` is a dictionary that maps the tags that you could have to numbers. Run the cell below to see the possible classes you will be predicting. The prepositions in the tags mean:\n",
        "* I: Token is inside an entity.\n",
        "* B: Token begins an entity."
      ]
    },
    {
      "cell_type": "code",
      "execution_count": null,
      "id": "9e2fd7f0",
      "metadata": {
        "id": "9e2fd7f0"
      },
      "outputs": [],
      "source": [
        "print(tag_map)"
      ]
    },
    {
      "cell_type": "markdown",
      "id": "a778deaf",
      "metadata": {
        "id": "a778deaf"
      },
      "source": [
        "If you had the sentence \n",
        "\n",
        "**\"Sharon flew to Miami on Friday\"**\n",
        "\n",
        "The tags would look like:\n",
        "\n",
        "```\n",
        "Sharon B-per\n",
        "flew   O\n",
        "to     O\n",
        "Miami  B-geo\n",
        "on     O\n",
        "Friday B-tim\n",
        "```\n",
        "\n",
        "where you would have three tokens beginning with B-, since there are no multi-token entities in the sequence. But if you added Sharon's last name to the sentence:\n",
        "\n",
        "**\"Sharon Floyd flew to Miami on Friday\"**\n",
        "\n",
        "```\n",
        "Sharon B-per\n",
        "Floyd  I-per\n",
        "flew   O\n",
        "to     O\n",
        "Miami  B-geo\n",
        "on     O\n",
        "Friday B-tim\n",
        "```\n",
        "\n",
        "your tags would change to show first \"Sharon\" as B-per, and \"Floyd\" as I-per, where I- indicates an inner token in a multi-token sequence."
      ]
    },
    {
      "cell_type": "code",
      "execution_count": null,
      "id": "f03824da",
      "metadata": {
        "id": "f03824da"
      },
      "outputs": [],
      "source": [
        "# Exploring information about the data\n",
        "print('The number of outputs is tag_map', len(tag_map))\n",
        "# The number of vocabulary tokens (including <PAD>)\n",
        "g_vocab_size = len(vocab)\n",
        "print(f\"Num of vocabulary words: {g_vocab_size}\")\n",
        "print('The training size is', t_size)\n",
        "print('The validation size is', v_size)\n",
        "print('The test size is', test_size)\n",
        "print('An example of the first sentence is', t_sentences[71])\n",
        "print('An example of its corresponding label is', t_labels[71])"
      ]
    },
    {
      "cell_type": "markdown",
      "id": "da65214c",
      "metadata": {
        "id": "da65214c"
      },
      "source": [
        "So you can see that we have already encoded each sentence into a tensor by converting it into a number. We also have 16 possible tags (excluding the '0' tag), as shown in the tag map.\n",
        "\n",
        "\n",
        "<a name=\"1.2\"></a>\n",
        "## 1.2  Data generator\n",
        "\n",
        "In python, a generator is a function that behaves like an iterator. It returns the next item in a pre-defined sequence. Here is a [link](https://wiki.python.org/moin/Generators) to review python generators. \n",
        "\n",
        "In many AI applications it is very useful to have a data generator. You will now implement a data generator for our NER application.\n",
        "\n",
        "<a name=\"ex01\"></a>\n",
        "### Exercise 01\n",
        "\n",
        "**Instructions:** Implement a data generator function that takes in `batch_size, x, y, pad, shuffle` where $x$ is a large list of sentences, and $y$ is a list of the tags associated with those sentences and pad is a pad value. Return a subset of those inputs in a tuple of two arrays `(X,Y)`. \n",
        "\n",
        "`X` and `Y` are arrays of dimension (`batch_size, max_len`), where `max_len` is the length of the longest sentence *in that batch*. You will pad the `X` and `Y` examples with the pad argument. If `shuffle=True`, the data will be traversed in a random order.\n",
        "\n",
        "**Details:**\n",
        "\n",
        "Use this code as an outer loop\n",
        "```\n",
        "while True:  \n",
        "...  \n",
        "yield((X,Y))  \n",
        "```\n",
        "\n",
        "so your data generator runs continuously. Within that loop, define two `for` loops:  \n",
        "\n",
        "1. The first stores temporal lists of the data samples to be included in the batch, and finds the maximum length of the sentences contained in it.\n",
        "\n",
        "2. The second one moves the elements from the temporal list into NumPy arrays pre-filled with pad values.\n",
        "\n",
        "There are three features useful for defining this generator:\n",
        "\n",
        "1. The NumPy `full` function to fill the NumPy arrays with a pad value. See [full function documentation](https://numpy.org/doc/1.18/reference/generated/numpy.full.html).\n",
        "\n",
        "2. Tracking the current location in the incoming lists of sentences. Generators variables hold their values between invocations, so we create an `index` variable, initialize to zero, and increment by one for each sample included in a batch. However, we do not use the `index` to access the positions of the list of sentences directly. Instead, we use it to select one index from a list of indexes. In this way, we can change the order in which we traverse our original list, keeping untouched our original list.  \n",
        "\n",
        "3. Since `batch_size` and the length of the input lists are not aligned, gathering a batch_size group of inputs may involve wrapping back to the beginning of the input loop. In our approach, it is just enough to reset the `index` to 0. We can re-shuffle the list of indexes to produce different batches each time."
      ]
    },
    {
      "cell_type": "code",
      "execution_count": null,
      "id": "4db5a631",
      "metadata": {
        "id": "4db5a631"
      },
      "outputs": [],
      "source": [
        "# data_generator\n",
        "def data_generator(batch_size, x, y, pad, shuffle=False, verbose=False):\n",
        "    '''\n",
        "      Input: \n",
        "        batch_size - integer describing the batch size\n",
        "        x - list containing sentences where words are represented as integers\n",
        "        y - list containing tags associated with the sentences\n",
        "        shuffle - Shuffle the data order\n",
        "        pad - an integer representing a pad character\n",
        "        verbose - Print information during runtime\n",
        "      Output:\n",
        "        a tuple containing 2 elements:\n",
        "        X - np.ndarray of dim (batch_size, max_len) of padded sentences\n",
        "        Y - np.ndarray of dim (batch_size, max_len) of tags associated with the sentences in X\n",
        "    '''\n",
        "    \n",
        "    # count the number of lines in data_lines\n",
        "    num_lines = len(x)\n",
        "    \n",
        "    # create an array with the indexes of data_lines that can be shuffled\n",
        "    lines_index = [*range(num_lines)]\n",
        "    \n",
        "    # shuffle the indexes if shuffle is set to True\n",
        "    if shuffle:\n",
        "        rnd.shuffle(lines_index)\n",
        "    \n",
        "    index = 0 # tracks current location in x, y\n",
        "    while True:\n",
        "        buffer_x = [0] * batch_size # Temporal array to store the raw x data for this batch\n",
        "        buffer_y = [0] * batch_size # Temporal array to store the raw y data for this batch\n",
        "        \n",
        "        # Copy into the temporal buffers the sentences in x[index] \n",
        "        # along with their corresponding labels y[index]\n",
        "        # Find maximum length of sentences in x[index] for this batch. \n",
        "        # Reset the index if we reach the end of the data set, and shuffle the indexes if needed.\n",
        "        max_len = 0 \n",
        "        for i in range(batch_size):\n",
        "             # if the index is greater than or equal to the number of lines in x\n",
        "            if index >= num_lines:\n",
        "                # then reset the index to 0\n",
        "                index = 0\n",
        "                # re-shuffle the indexes if shuffle is set to True\n",
        "                if shuffle:\n",
        "                    rnd.shuffle(lines_index)\n",
        "            \n",
        "            # The current position is obtained using `lines_index[index]`\n",
        "            # Store the x value at the current position into the buffer_x\n",
        "            buffer_x[i] = x[lines_index[index]]\n",
        "            \n",
        "            # Store the y value at the current position into the buffer_y\n",
        "            buffer_y[i] = y[lines_index[index]]\n",
        "            \n",
        "            lenx = len(x[lines_index[index]]) #length of current x[]\n",
        "            if lenx > max_len:\n",
        "                max_len = lenx #max_len tracks longest x[]\n",
        "            \n",
        "            # increment index by one\n",
        "            index += 1\n",
        "\n",
        "\n",
        "        # create X,Y, NumPy arrays of size (batch_size, max_len) 'full' of pad value\n",
        "        X = np.full((batch_size, max_len), pad)\n",
        "        Y = np.full((batch_size, max_len), pad)\n",
        "\n",
        "        # copy values from lists to NumPy arrays. Use the buffered values\n",
        "        for i in range(batch_size):\n",
        "            # get the example (sentence as a tensor)\n",
        "            # in `buffer_x` at the `i` index\n",
        "            x_i = buffer_x[i]\n",
        "            \n",
        "            # similarly, get the example's labels\n",
        "            # in `buffer_y` at the `i` index\n",
        "            y_i = buffer_y[i]\n",
        "            \n",
        "            # Walk through each word in x_i\n",
        "            for j in range(len(x_i)):\n",
        "                # store the word in x_i at position j into X\n",
        "                X[i, j] = x_i[j]\n",
        "                \n",
        "                # store the label in y_i at position j into Y\n",
        "                Y[i, j] = y_i[j]\n",
        "\n",
        "        if verbose: print(\"index=\", index)\n",
        "        yield((X,Y))"
      ]
    },
    {
      "cell_type": "code",
      "execution_count": null,
      "id": "1bb27f79",
      "metadata": {
        "id": "1bb27f79"
      },
      "outputs": [],
      "source": [
        "batch_size = 5\n",
        "mini_sentences = t_sentences[0: 8]\n",
        "mini_labels = t_labels[0: 8]\n",
        "dg = data_generator(batch_size, mini_sentences, mini_labels, vocab[\"<PAD>\"], shuffle=False, verbose=True)\n",
        "X1, Y1 = next(dg)\n",
        "X2, Y2 = next(dg)\n",
        "print(Y1.shape, X1.shape, Y2.shape, X2.shape)\n",
        "print(X1[0][:], \"\\n\", Y1[0][:])"
      ]
    },
    {
      "cell_type": "markdown",
      "id": "cf2dc3f3",
      "metadata": {
        "id": "cf2dc3f3"
      },
      "source": [
        "**Expected output:**   \n",
        "```\n",
        "index= 5\n",
        "index= 2\n",
        "(5, 30) (5, 30) (5, 30) (5, 30)\n",
        "[    0     1     2     3     4     5     6     7     8     9    10    11\n",
        "    12    13    14     9    15     1    16    17    18    19    20    21\n",
        " 35180 35180 35180 35180 35180 35180] \n",
        " [    0     0     0     0     0     0     1     0     0     0     0     0\n",
        "     1     0     0     0     0     0     2     0     0     0     0     0\n",
        " 35180 35180 35180 35180 35180 35180]  \n",
        "```"
      ]
    },
    {
      "cell_type": "markdown",
      "id": "c64f65b0",
      "metadata": {
        "id": "c64f65b0"
      },
      "source": [
        "<a name=\"2\"></a>\n",
        "# Part 2:  Building the model\n",
        "\n",
        "You will now implement the model that will be able to determining the tags of sentences like the following:\n",
        "<table>\n",
        "\n",
        "\n",
        "![my image](https://drive.google.com/uc?export=view&id=1CF2uMSVjMPs2_QKUnshGObdIJojKhgra)\n",
        "\n",
        "\n",
        "</table>\n",
        "\n",
        "The model architecture will be as follows: \n",
        "\n",
        "![my image](https://drive.google.com/uc?export=view&id=1H9Y9sPFc5cu0y1R1GwkYpWTF1OQ0EmHq)\n",
        "\n",
        "\n",
        "Concretely, your inputs will be sentences represented as tensors that are fed to a model with:\n",
        "\n",
        "* An Embedding layer,\n",
        "* A LSTM layer\n",
        "* A Dense layer\n",
        "* A log softmax layer.\n",
        "\n",
        "Good news! We won't make you implement the LSTM cell drawn above. You will be in charge of the overall architecture of the model.\n",
        "\n",
        "<a name=\"ex02\"></a>\n",
        "### Exercise 02\n",
        "\n",
        "**Instructions:** Implement the initialization step and the forward function of your Named Entity Recognition system.  \n",
        "Please utilize help function e.g. `help(tl.Dense)` for more information on a layer\n",
        "   \n",
        "- [tl.Serial](https://github.com/google/trax/blob/e65d51fe584b10c0fa0fccadc1e70b6330aac67e/trax/layers/combinators.py#L26): Combinator that applies layers serially (by function composition).\n",
        "    - You can pass in the layers as arguments to `Serial`, separated by commas. \n",
        "    - For example: `tl.Serial(tl.Embeddings(...), tl.Mean(...), tl.Dense(...), tl.LogSoftmax(...))` \n",
        "\n",
        "\n",
        "-  [tl.Embedding](https://github.com/google/trax/blob/e65d51fe584b10c0fa0fccadc1e70b6330aac67e/trax/layers/core.py#L130): Initializes the embedding. In this case it is the dimension of the model by the size of the vocabulary. \n",
        "    - `tl.Embedding(vocab_size, d_feature)`.\n",
        "    - `vocab_size` is the number of unique words in the given vocabulary.\n",
        "    - `d_feature` is the number of elements in the word embedding (some choices for a word embedding size range from 150 to 300, for example).\n",
        "    \n",
        "\n",
        "-  [tl.LSTM](https://github.com/google/trax/blob/e65d51fe584b10c0fa0fccadc1e70b6330aac67e/trax/layers/rnn.py#L93):`Trax` LSTM layer. \n",
        "    - `LSTM(n_units)` Builds an LSTM layer with hidden state and cell sizes equal to `n_units`. In trax, `n_units` should be equal to the size of the embeddings `d_feature`.\n",
        "\n",
        "\n",
        "\n",
        "-  [tl.Dense](https://github.com/google/trax/blob/e65d51fe584b10c0fa0fccadc1e70b6330aac67e/trax/layers/core.py#L34):  A dense layer.\n",
        "    - `tl.Dense(n_units)`: The parameter `n_units` is the number of units chosen for this dense layer.  \n",
        "\n",
        "\n",
        "- [tl.LogSoftmax](https://github.com/google/trax/blob/e65d51fe584b10c0fa0fccadc1e70b6330aac67e/trax/layers/core.py#L644): Log of the output probabilities.\n",
        "    - Here, you don't need to set any parameters for `LogSoftMax()`.\n",
        "    \n",
        "\n",
        "**Online documentation**\n",
        "\n",
        "- [tl.Serial](https://trax-ml.readthedocs.io/en/latest/trax.layers.html#module-trax.layers.combinators)\n",
        "\n",
        "- [tl.Embedding](https://trax-ml.readthedocs.io/en/latest/trax.layers.html#trax.layers.core.Embedding)\n",
        "\n",
        "-  [tl.LSTM](https://trax-ml.readthedocs.io/en/latest/trax.layers.html#trax.layers.rnn.LSTM)\n",
        "\n",
        "-  [tl.Dense](https://trax-ml.readthedocs.io/en/latest/trax.layers.html#trax.layers.core.Dense)\n",
        "\n",
        "- [tl.LogSoftmax](https://trax-ml.readthedocs.io/en/latest/trax.layers.html#trax.layers.core.LogSoftmax)    "
      ]
    },
    {
      "cell_type": "code",
      "execution_count": null,
      "id": "747bf80a",
      "metadata": {
        "id": "747bf80a"
      },
      "outputs": [],
      "source": [
        "# NER\n",
        "def NER(tags, vocab_size=35181, d_model=50):\n",
        "    '''\n",
        "      Input: \n",
        "        tag_map - dictionary that maps the tags to numbers\n",
        "        vocab_size - integer containing the size of the vocabulary\n",
        "        d_model - integer describing the embedding size\n",
        "      Output:\n",
        "        model - a trax serial model\n",
        "    '''\n",
        "    \n",
        "    model = tl.Serial( \n",
        "      tl.Embedding(vocab_size, d_model), # Embedding layer\n",
        "      tl.LSTM(d_model), # LSTM layer\n",
        "      tl.Dense(len(tags)), # Dense layer with len(tags) units\n",
        "      tl.LogSoftmax() # LogSoftmax layer\n",
        "      ) \n",
        "      \n",
        "    return model"
      ]
    },
    {
      "cell_type": "code",
      "execution_count": null,
      "id": "f04c42fc",
      "metadata": {
        "id": "f04c42fc"
      },
      "outputs": [],
      "source": [
        "# initializing your model\n",
        "model = NER(tag_map, vocab_size=35181, d_model=50)\n",
        "# display your model\n",
        "print(model)"
      ]
    },
    {
      "cell_type": "markdown",
      "id": "f36e3138",
      "metadata": {
        "id": "f36e3138"
      },
      "source": [
        "**Expected output:**  \n",
        "```\n",
        "Serial[\n",
        "  Embedding_35181_50\n",
        "  LSTM_50\n",
        "  Dense_17\n",
        "  LogSoftmax\n",
        "]\n",
        "```  \n"
      ]
    },
    {
      "cell_type": "markdown",
      "id": "91c59c56",
      "metadata": {
        "id": "91c59c56"
      },
      "source": [
        "<a name=\"3\"></a>\n",
        "# Part 3:  Train the Model \n",
        "\n",
        "This section will train your model.\n",
        "\n",
        "Before you start, you need to create the data generators for training and validation data. It is important that you mask padding in the loss weights of your data, which can be done using the `id_to_mask` argument of [`trax.data.inputs.add_loss_weights`](https://trax-ml.readthedocs.io/en/latest/trax.data.html?highlight=add_loss_weights#trax.data.inputs.add_loss_weights)."
      ]
    },
    {
      "cell_type": "code",
      "execution_count": null,
      "id": "70ad60c3",
      "metadata": {
        "id": "70ad60c3"
      },
      "outputs": [],
      "source": [
        "# Setting random seed for reproducibility and testing\n",
        "rnd.seed(33)\n",
        "\n",
        "batch_size = 64\n",
        "\n",
        "# Create training data, mask pad id=35180 for training.\n",
        "train_generator = trax.data.inputs.add_loss_weights(\n",
        "    data_generator(batch_size, t_sentences, t_labels, vocab['<PAD>'], True),\n",
        "    id_to_mask=vocab['<PAD>'])\n",
        "\n",
        "# Create validation data, mask pad id=35180 for training.\n",
        "eval_generator = trax.data.inputs.add_loss_weights(\n",
        "    data_generator(batch_size, v_sentences, v_labels, vocab['<PAD>'], True),\n",
        "    id_to_mask=vocab['<PAD>'])"
      ]
    },
    {
      "cell_type": "code",
      "source": [
        "train_batch, labels, masks = next(train_generator)\n",
        "print(train_batch.shape)\n",
        "print(train_batch[0])\n",
        "print(labels[0])\n",
        "print(masks[0])"
      ],
      "metadata": {
        "id": "6mDqZ2Bl3k1X"
      },
      "id": "6mDqZ2Bl3k1X",
      "execution_count": null,
      "outputs": []
    },
    {
      "cell_type": "markdown",
      "id": "efcdbd8f",
      "metadata": {
        "id": "efcdbd8f"
      },
      "source": [
        "<a name='3.1'></a>\n",
        "### 3.1 Training the model\n",
        "\n",
        "You will now write a function that takes in your model and trains it.\n",
        "\n",
        "As you've seen in the previous assignments, you will first create the [TrainTask](https://trax-ml.readthedocs.io/en/stable/trax.supervised.html#trax.supervised.training.TrainTask) and [EvalTask](https://trax-ml.readthedocs.io/en/stable/trax.supervised.html#trax.supervised.training.EvalTask) using your data generator. Then you will use the `training.Loop` to train your model.\n",
        "\n",
        "<a name=\"ex03\"></a>\n",
        "### Exercise 03\n",
        "\n",
        "**Instructions:** Implement the `train_model` program below to train the neural network above. Here is a list of things you should do: \n",
        "- Create the trainer object by calling [`trax.supervised.training.Loop`](https://trax-ml.readthedocs.io/en/latest/trax.supervised.html#trax.supervised.training.Loop) and pass in the following:\n",
        "\n",
        "    - model = [NER](#ex02)\n",
        "    - [training task](https://trax-ml.readthedocs.io/en/latest/trax.supervised.html#trax.supervised.training.TrainTask) that uses the train data generator defined in the cell above\n",
        "        - loss_layer = [tl.CrossEntropyLoss()](https://github.com/google/trax/blob/e65d51fe584b10c0fa0fccadc1e70b6330aac67e/trax/layers/metrics.py#L395)\n",
        "        - optimizer = [trax.optimizers.Adam(0.01)](https://github.com/google/trax/blob/e65d51fe584b10c0fa0fccadc1e70b6330aac67e/trax/optimizers/adam.py#L24)\n",
        "    - [evaluation task](https://trax-ml.readthedocs.io/en/latest/trax.supervised.html#trax.supervised.training.EvalTask) that uses the validation data generator defined in the cell above and the following arguments\n",
        "        - metrics for `EvalTask`: `tl.CrossEntropyLoss()` and `tl.Accuracy()`\n",
        "        - in `EvalTask` set `n_eval_batches=10` for better evaluation accuracy\n",
        "    - output_dir = output_dir\n",
        "\n",
        "You'll be using a [cross entropy loss](https://trax-ml.readthedocs.io/en/latest/trax.layers.html#trax.layers.metrics.CrossEntropyLoss), with an [Adam optimizer](https://trax-ml.readthedocs.io/en/latest/trax.optimizers.html#trax.optimizers.adam.Adam). Please read the [trax](https://trax-ml.readthedocs.io/en/latest/trax.html) documentation to get a full understanding. The [trax GitHub](https://github.com/google/trax) also contains some useful information and a link to a colab notebook."
      ]
    },
    {
      "cell_type": "code",
      "execution_count": null,
      "id": "22e53786",
      "metadata": {
        "id": "22e53786"
      },
      "outputs": [],
      "source": [
        "# train_model\n",
        "def train_model(NER, train_generator, eval_generator, train_steps=1, output_dir='model'):\n",
        "    '''\n",
        "    Input: \n",
        "        NER - the model you are building\n",
        "        train_generator - The data generator for training examples\n",
        "        eval_generator - The data generator for validation examples,\n",
        "        train_steps - number of training steps\n",
        "        output_dir - folder to save your model\n",
        "    Output:\n",
        "        training_loop - a trax supervised training Loop\n",
        "    '''\n",
        "    train_task = training.TrainTask(\n",
        "      labeled_data = train_generator, # A train data generator\n",
        "      loss_layer = tl.CrossEntropyLoss(), # A cross-entropy loss function\n",
        "      optimizer = trax.optimizers.Adam(0.01), # The adam optimizer\n",
        "        n_steps_per_checkpoint=1\n",
        "    ) \n",
        "\n",
        "    eval_task = training.EvalTask(\n",
        "      labeled_data = eval_generator,  # A labeled data generator\n",
        "      metrics = [tl.CrossEntropyLoss(), tl.Accuracy()], # Evaluate with cross-entropy loss and accuracy\n",
        "      n_eval_batches = 2, # Number of batches to use on each evaluation\n",
        "    )\n",
        "\n",
        "    training_loop = training.Loop( \n",
        "        NER, # A model to train\n",
        "        train_task, # A train task\n",
        "        eval_tasks = [eval_task], # The evaluation task\n",
        "        output_dir = output_dir # The output directory\n",
        "    )\n",
        "\n",
        "    # Train with train_steps\n",
        "    training_loop.run(n_steps = train_steps)\n",
        "    return training_loop"
      ]
    },
    {
      "cell_type": "code",
      "source": [
        "# delete the old model\n",
        "output_dir = os.path.join(current_path, \"model\")\n",
        "if os.path.exists(output_dir):\n",
        "    shutil.rmtree(output_dir)\n",
        "os.mkdir(output_dir)"
      ],
      "metadata": {
        "id": "aH-uQUnQ6Unk"
      },
      "id": "aH-uQUnQ6Unk",
      "execution_count": null,
      "outputs": []
    },
    {
      "cell_type": "code",
      "execution_count": null,
      "id": "fbd0aeeb",
      "metadata": {
        "id": "fbd0aeeb"
      },
      "outputs": [],
      "source": [
        "train_steps = 100  \n",
        "# Train the model\n",
        "training_loop = train_model(NER(tag_map), train_generator, eval_generator, train_steps, output_dir)"
      ]
    },
    {
      "cell_type": "markdown",
      "id": "6bb49170",
      "metadata": {
        "id": "6bb49170"
      },
      "source": [
        "On your local machine, you can run this training for 1000 train_steps and get your own model. This training takes about 5 to 10 minutes to run."
      ]
    },
    {
      "cell_type": "markdown",
      "id": "b81d31d2",
      "metadata": {
        "id": "b81d31d2"
      },
      "source": [
        "**Expected output (Approximately)**\n",
        "\n",
        "```\n",
        "...\n",
        "Step      1: Total number of trainable weights: 1780117\n",
        "Step      1: Ran 1 train steps in 2.63 secs\n",
        "Step      1: train CrossEntropyLoss |  4.49356890\n",
        "Step      1: eval  CrossEntropyLoss |  3.41925483\n",
        "Step      1: eval          Accuracy |  0.01685534\n",
        "\n",
        "Step    100: Ran 99 train steps in 49.14 secs\n",
        "Step    100: train CrossEntropyLoss |  0.61710459\n",
        "Step    100: eval  CrossEntropyLoss |  0.27959008\n",
        "Step    100: eval          Accuracy |  0.93171992\n",
        "...\n",
        "```\n",
        "This value may change between executions, but it must be around 90% of accuracy on train and validations sets, after 100 training steps."
      ]
    },
    {
      "cell_type": "markdown",
      "id": "92ad36e8",
      "metadata": {
        "id": "92ad36e8"
      },
      "source": [
        "We have trained the model longer, and we give you such a trained model. In that way, we ensure you can continue with the rest of the assignment even if you had some troubles up to here, and also we are sure that everybody will get the same outputs for the last example. However, you are free to try your model, as well. "
      ]
    },
    {
      "cell_type": "code",
      "execution_count": null,
      "id": "e48892cb",
      "metadata": {
        "id": "e48892cb"
      },
      "outputs": [],
      "source": [
        "# loading in a pretrained model..\n",
        "model = NER(tag_map)\n",
        "model.init(trax.shapes.ShapeDtype((1, 1), dtype=np.int32))\n",
        "\n",
        "# Load the pretrained model\n",
        "model.init_from_file(current_path + 'model.pkl.gz', weights_only=True)"
      ]
    },
    {
      "cell_type": "markdown",
      "id": "9945773a",
      "metadata": {
        "id": "9945773a"
      },
      "source": [
        "<a name=\"4\"></a>\n",
        "# Part 4:  Compute Accuracy\n",
        "\n",
        "You will now evaluate in the test set. Previously, you have seen the accuracy on the training set and the validation (noted as eval) set. You will now evaluate on your test set. To get a good evaluation, you will need to create a mask to avoid counting the padding tokens when computing the accuracy. \n",
        "\n",
        "<a name=\"ex04\"></a>\n",
        "### Exercise 04\n",
        "\n",
        "**Instructions:** Write a program that takes in your model and uses it to evaluate on the test set. You should be able to get an accuracy of 95%.  \n"
      ]
    },
    {
      "cell_type": "markdown",
      "id": "e19ddfb9",
      "metadata": {
        "id": "e19ddfb9"
      },
      "source": [
        "\n",
        "<details>    \n",
        "<summary>\n",
        "    <font size=\"3\" color=\"darkgreen\"><b>More Detailed Instructions </b></font>\n",
        "</summary>\n",
        "\n",
        "* *Step 1*: model(sentences) will give you the predicted output. \n",
        "\n",
        "* *Step 2*: Prediction will produce an output with an added dimension. For each sentence, for each word, there will be a vector of probabilities for each tag type. For each sentence,word, you need to pick the maximum valued tag. This will require `np.argmax` and careful use of the `axis` argument.\n",
        "* *Step 3*: Create a mask to prevent counting pad characters. It has the same dimension as output. An example below on matrix comparison provides a hint.\n",
        "* *Step 4*: Compute the accuracy metric by comparing your outputs against your test labels. Take the sum of that and divide by the total number of **unpadded** tokens. Use your mask value to mask the padded tokens. Return the accuracy. \n",
        "</detail>"
      ]
    },
    {
      "cell_type": "code",
      "execution_count": null,
      "id": "833818e3",
      "metadata": {
        "id": "833818e3"
      },
      "outputs": [],
      "source": [
        "#Example of a comparision on a matrix \n",
        "a = np.array([1, 2, 3, 4])\n",
        "a == 2"
      ]
    },
    {
      "cell_type": "code",
      "execution_count": null,
      "id": "139d7a39",
      "metadata": {
        "id": "139d7a39"
      },
      "outputs": [],
      "source": [
        "# create the evaluation inputs\n",
        "x, y = next(data_generator(len(test_sentences), test_sentences, test_labels, vocab['<PAD>']))\n",
        "print(\"input shapes\", x.shape, y.shape)"
      ]
    },
    {
      "cell_type": "code",
      "execution_count": null,
      "id": "48617a32",
      "metadata": {
        "id": "48617a32"
      },
      "outputs": [],
      "source": [
        "# sample prediction\n",
        "tmp_pred = model(x)\n",
        "print(type(tmp_pred))\n",
        "print(f\"tmp_pred has shape: {tmp_pred.shape}\")"
      ]
    },
    {
      "cell_type": "markdown",
      "id": "e0aefc08",
      "metadata": {
        "id": "e0aefc08"
      },
      "source": [
        "Note that the model's prediction has 3 axes: \n",
        "- the number of examples\n",
        "- the number of words in each example (padded to be as long as the longest sentence in the batch)\n",
        "- the number of possible targets (the 17 named entity tags)."
      ]
    },
    {
      "cell_type": "code",
      "execution_count": null,
      "id": "fe919dd3",
      "metadata": {
        "id": "fe919dd3"
      },
      "outputs": [],
      "source": [
        "# evaluate_prediction\n",
        "def evaluate_prediction(pred, labels, pad):\n",
        "    \"\"\"\n",
        "    Inputs:\n",
        "        pred: prediction array with shape \n",
        "            (num examples, max sentence length in batch, num of classes)\n",
        "        labels: array of size (batch_size, seq_len)\n",
        "        pad: integer representing pad character\n",
        "    Outputs:\n",
        "        accuracy: float\n",
        "    \"\"\"\n",
        "## step 1 ##\n",
        "    outputs = np.argmax(pred, axis=2)\n",
        "    print(\"outputs shape:\", outputs.shape)\n",
        "\n",
        "## step 2 ##\n",
        "    mask = pad != labels\n",
        "    print(\"mask shape:\", mask.shape, \"mask[0][20:30]:\", mask[0][20:30])\n",
        "## step 3 ##\n",
        "    accuracy = np.sum(outputs==labels)/float(np.sum(mask))\n",
        "    return accuracy\n"
      ]
    },
    {
      "cell_type": "code",
      "execution_count": null,
      "id": "4fbb4307",
      "metadata": {
        "id": "4fbb4307"
      },
      "outputs": [],
      "source": [
        "accuracy = evaluate_prediction(model(x), y, vocab['<PAD>'])\n",
        "print(\"accuracy: \", accuracy)"
      ]
    },
    {
      "cell_type": "markdown",
      "id": "c0ce06d0",
      "metadata": {
        "id": "c0ce06d0"
      },
      "source": [
        "**Expected output (Approximately)**   \n",
        "```\n",
        "outputs shape: (7194, 70)\n",
        "mask shape: (7194, 70) mask[0][20:30]: [ True  True  True False False False False False False False]\n",
        "accuracy:  0.9543761\n",
        "```\n"
      ]
    },
    {
      "cell_type": "markdown",
      "id": "b33effe7",
      "metadata": {
        "id": "b33effe7"
      },
      "source": [
        "<a name=\"5\"></a>\n",
        "# Part 5:  Testing with your own sentence\n"
      ]
    },
    {
      "cell_type": "markdown",
      "id": "3ff12d3b",
      "metadata": {
        "id": "3ff12d3b"
      },
      "source": [
        "Below, you can test it out with your own sentence! "
      ]
    },
    {
      "cell_type": "code",
      "execution_count": null,
      "id": "77f58c69",
      "metadata": {
        "id": "77f58c69"
      },
      "outputs": [],
      "source": [
        "# This is the function you will be using to test your own sentence.\n",
        "def predict(sentence, model, vocab, tag_map):\n",
        "    s = [vocab[token] if token in vocab else vocab['UNK'] for token in sentence.split(' ')]\n",
        "    batch_data = np.ones((1, len(s)))\n",
        "    batch_data[0][:] = s\n",
        "    sentence = np.array(batch_data).astype(int)\n",
        "    output = model(sentence)\n",
        "    outputs = np.argmax(output, axis=2)\n",
        "    labels = list(tag_map.keys())\n",
        "    pred = []\n",
        "    for i in range(len(outputs[0])):\n",
        "        idx = outputs[0][i] \n",
        "        pred_label = labels[idx]\n",
        "        pred.append(pred_label)\n",
        "    return pred"
      ]
    },
    {
      "cell_type": "code",
      "execution_count": null,
      "id": "b746a012",
      "metadata": {
        "id": "b746a012"
      },
      "outputs": [],
      "source": [
        "# Try the output for the introduction example\n",
        "#sentence = \"Many French citizens are goin to visit Morocco for summer\"\n",
        "#sentence = \"Sharon Floyd flew to Miami last Friday\"\n",
        "\n",
        "# New york times news:\n",
        "sentence = \"Peter Navarro, the White House director of trade and manufacturing policy of U.S, said in an interview on Sunday morning that the White House was working to prepare for the possibility of a second wave of the coronavirus in the fall, though he said it wouldn’t necessarily come\"\n",
        "predictions = predict(sentence, model, vocab, tag_map)\n",
        "for x,y in zip(sentence.split(' '), predictions):\n",
        "    # if y != 'O':\n",
        "    print(x,y)"
      ]
    },
    {
      "cell_type": "markdown",
      "id": "4d8b752f",
      "metadata": {
        "id": "4d8b752f"
      },
      "source": [
        "**Expected Results**\n",
        "\n",
        "```\n",
        "Peter B-per\n",
        "Navarro, I-per\n",
        "White B-org\n",
        "House I-org\n",
        "Sunday B-tim\n",
        "morning I-tim\n",
        "White B-org\n",
        "House I-org\n",
        "coronavirus B-tim\n",
        "fall, B-tim\n",
        "```"
      ]
    },
    {
      "cell_type": "markdown",
      "source": [
        "## Challenges for the AI Accelerator Attendees:\n",
        "\n",
        "\n",
        "\n",
        "1.   Let's say that you have a dataset which contains only this paragraph:\n",
        "\n",
        "\n",
        "> > \"A transformer is a deep learning model that adopts the mechanism of self-attention, differentially weighting the significance of each part of the input data. It is used primarily in the fields of natural language processing (NLP) and computer vision (CV). Like recurrent neural networks (RNNs), transformers are designed to process sequential input data, such as natural language, with applications towards tasks such as translation and text summarization. However, unlike RNNs, transformers process the entire input all at once. The attention mechanism provides context for any position in the input sequence. For example, if the input data is a natural language sentence, the transformer does not have to process one word at a time. This allows for more parallelization than RNNs and therefore reduces training times. Transformers were introduced in 2017 by a team at Google Brainand are increasingly the model of choice for NLP problems, replacing RNN models such as long short-term memory (LSTM). The additional training parallelization allows training on larger datasets. This led to the development of pretrained systems such as BERT (Bidirectional Encoder Representations from Transformers) and GPT (Generative Pre-trained Transformer), which were trained with large language datasets, such as the Wikipedia Corpus and Common Crawl, and can be fine-tuned for specific tasks\"\n",
        "\n",
        "> We want to build a vocab specifically from this text. take the following considerations:\n",
        ">> *   The paragraph is a text file, and you need to open and read the content\n",
        ">> *   Process the paragraph first (clean, tokenize)\n",
        ">> *   Treat the vocab as a dictionary\n",
        ">> *   Handle special tokens like \\<UNk\\> and \\<PAD\\>\n",
        "\n"
      ],
      "metadata": {
        "id": "yY8a-jESXlH_"
      },
      "id": "yY8a-jESXlH_"
    },
    {
      "cell_type": "code",
      "source": [
        "# text file path\n",
        "dataset_textfile_path = current_path + \"dataset.txt\"\n",
        "\n",
        "# read the file\n",
        "text_data = \"\"\n",
        "with open(dataset_textfile_path, \"r\"):\n",
        "  # start your code here\n",
        "  pass\n",
        "\n",
        "# clean the text\n",
        "# hint: you could do it manually or use a python package to help\n",
        "# start your code here\n",
        "word_tokens = None\n",
        "\n",
        "\n",
        "# build the vocab: remember that each unique word has its own index\n",
        "pad = '<PAD>'\n",
        "unk = '<UNK>'\n",
        "vocab = {}\n",
        "\n",
        "for word in word_tokens:\n",
        "  pass\n",
        "\n",
        "\n",
        "# show the vocab\n",
        "for key, value in vocab:\n",
        "  print(key, value )\n"
      ],
      "metadata": {
        "id": "mHYdEtmXYAYf"
      },
      "id": "mHYdEtmXYAYf",
      "execution_count": null,
      "outputs": []
    },
    {
      "cell_type": "code",
      "source": [],
      "metadata": {
        "id": "QyYUzBNpGSek"
      },
      "id": "QyYUzBNpGSek",
      "execution_count": null,
      "outputs": []
    },
    {
      "cell_type": "markdown",
      "source": [
        "\n",
        "\n",
        "2.   Build a model using LSTMs to predict the sentiment of a sentence. consider 3 sentiments (positive, negative, neutral). the dataset and the sample batches are created for you, you just have to build the model. take in considerations:\n",
        ">> * Use Trax library (get help from the previous NER example)\n",
        ">> * The vector depth of the word embeddings is 512\n",
        ">> * 3 classes are needed in the output\n",
        ">> * consider the vocab size 33k\n",
        ">> * Train the model for 10 steps\n",
        ">> * Use Adam optimizer with learning rate of 0.01\n",
        ">> * Use CrossEntropyLoss\n",
        "\n"
      ],
      "metadata": {
        "id": "vF81eXf1YDiU"
      },
      "id": "vF81eXf1YDiU"
    },
    {
      "cell_type": "code",
      "source": [
        "# dummy function to create a data generator, just to skip training-data processing for this example\n",
        "def stream():\n",
        "  input = np.array([[2005, 4451, 3201,    9,    0,    0,    0 ,   0 ,   0  ,  0   , 0],\n",
        "                    [4954 , 567 ,2000 ,1454, 5174 ,3499 , 141 ,3499 , 130 , 459   , 9],\n",
        "                    [3761 , 109 , 136 , 583 ,2930 ,3969 ,   0 ,   0   , 0 ,   0 ,   0],\n",
        "                    [ 250 ,3761 ,   0  ,  0 ,   0  ,  0 ,   0  ,  0  ,  0  ,  0  ,  0]])\n",
        "  labels = np.array([1,0,1,2])\n",
        "  weights = np.array([1,1,1,1])\n",
        "  yield input, labels, weights"
      ],
      "metadata": {
        "id": "65KPioSi2RJA"
      },
      "id": "65KPioSi2RJA",
      "execution_count": null,
      "outputs": []
    },
    {
      "cell_type": "code",
      "source": [
        "# dataset generators\n",
        "train_generator = stream()\n",
        "eval_generator = stream()\n",
        "\n",
        "\n",
        "# 1) build the model architecture\n",
        "\n",
        "# start your code here\n",
        "def my_model(vocab_size, word_vector_depth, number_classes):\n",
        "  # build one Serial layer to stack all other layers\n",
        "  model = tl.Serial(\n",
        "      # word Embeddings\n",
        "      None,\n",
        "      # LSTM Layer\n",
        "      None,\n",
        "      # dense layer\n",
        "      None,\n",
        "      # logSoftmax\n",
        "      None\n",
        "  )\n",
        "\n",
        "  return model\n",
        "\n",
        "# call the above function with the right parameters\n",
        "model = my_model()\n",
        "\n",
        "\n",
        "\n",
        "# 2) run the training\n",
        "def train_model(model, \n",
        "                train_generator, \n",
        "                eval_generator, \n",
        "                train_steps, \n",
        "                output_dir=os.path.join(current_path, \"model\")):\n",
        "\n",
        "    train_task = training.TrainTask( \n",
        "      labeled_data = None, # A train data generator\n",
        "      loss_layer = None, # A cross-entropy loss function\n",
        "      optimizer = None, # The adam optimizer\n",
        "      n_steps_per_checkpoint=1) \n",
        "\n",
        "    eval_task = training.EvalTask(  \n",
        "      labeled_data = None,  # A labeled data generator\n",
        "      metrics = None # Evaluate with cross-entropy loss and accuracy\n",
        "      )\n",
        "\n",
        "    training_loop = training.Loop( \n",
        "        None, # A model to train\n",
        "        None, # A train task\n",
        "        None, # The evaluation task\n",
        "        output_dir = output_dir # The output directory\n",
        "    )\n",
        "\n",
        "    # Train with train_steps\n",
        "    training_loop.run(None)\n",
        "\n",
        "    return training_loop \n",
        "\n",
        "\n",
        "# run the training with the right parameters\n",
        "train_model()"
      ],
      "metadata": {
        "id": "9v5U9kRkYMsa"
      },
      "id": "9v5U9kRkYMsa",
      "execution_count": null,
      "outputs": []
    }
  ],
  "metadata": {
    "jupytext": {
      "encoding": "# -*- coding: utf-8 -*-"
    },
    "kernelspec": {
      "display_name": "Python 3 (ipykernel)",
      "language": "python",
      "name": "python3"
    },
    "language_info": {
      "codemirror_mode": {
        "name": "ipython",
        "version": 3
      },
      "file_extension": ".py",
      "mimetype": "text/x-python",
      "name": "python",
      "nbconvert_exporter": "python",
      "pygments_lexer": "ipython3",
      "version": "3.9.13"
    },
    "colab": {
      "provenance": [],
      "include_colab_link": true
    }
  },
  "nbformat": 4,
  "nbformat_minor": 5
}